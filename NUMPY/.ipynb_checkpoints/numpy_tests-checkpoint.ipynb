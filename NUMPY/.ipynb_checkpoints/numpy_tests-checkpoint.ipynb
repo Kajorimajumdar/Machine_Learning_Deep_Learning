{
 "cells": [
  {
   "cell_type": "code",
   "execution_count": 1,
   "id": "85184da4",
   "metadata": {},
   "outputs": [],
   "source": [
    "import numpy as np"
   ]
  },
  {
   "cell_type": "code",
   "execution_count": 2,
   "id": "f06c83b8",
   "metadata": {},
   "outputs": [],
   "source": [
    "# Few Important Functions"
   ]
  },
  {
   "cell_type": "code",
   "execution_count": 3,
   "id": "a6e13525",
   "metadata": {},
   "outputs": [
    {
     "name": "stdout",
     "output_type": "stream",
     "text": [
      "[1 2 3 4 5]\n"
     ]
    }
   ],
   "source": [
    "# convert python list in a n dimensional array\n",
    "\n",
    "a = np.array([1,2,3,4,5])\n",
    "print(a)"
   ]
  },
  {
   "cell_type": "code",
   "execution_count": 4,
   "id": "25a7f5fd",
   "metadata": {},
   "outputs": [
    {
     "name": "stdout",
     "output_type": "stream",
     "text": [
      "<class 'numpy.ndarray'>\n"
     ]
    }
   ],
   "source": [
    "print(type(a))"
   ]
  },
  {
   "cell_type": "code",
   "execution_count": 6,
   "id": "6a713a8c",
   "metadata": {},
   "outputs": [
    {
     "data": {
      "text/plain": [
       "(5,)"
      ]
     },
     "execution_count": 6,
     "metadata": {},
     "output_type": "execute_result"
    }
   ],
   "source": [
    "a.shape"
   ]
  },
  {
   "cell_type": "code",
   "execution_count": 7,
   "id": "fb068364",
   "metadata": {},
   "outputs": [
    {
     "name": "stdout",
     "output_type": "stream",
     "text": [
      "[[1 2 3 4]\n",
      " [5 6 7 8]]\n"
     ]
    }
   ],
   "source": [
    "b = np.array([[1,2,3,4],[5,6,7,8]])\n",
    "print(b)"
   ]
  },
  {
   "cell_type": "code",
   "execution_count": 8,
   "id": "6af182a3",
   "metadata": {},
   "outputs": [
    {
     "data": {
      "text/plain": [
       "(2, 4)"
      ]
     },
     "execution_count": 8,
     "metadata": {},
     "output_type": "execute_result"
    }
   ],
   "source": [
    "b.shape"
   ]
  },
  {
   "cell_type": "code",
   "execution_count": 9,
   "id": "dfda357e",
   "metadata": {},
   "outputs": [
    {
     "data": {
      "text/plain": [
       "array([[1, 5],\n",
       "       [2, 6],\n",
       "       [3, 7],\n",
       "       [4, 8]])"
      ]
     },
     "execution_count": 9,
     "metadata": {},
     "output_type": "execute_result"
    }
   ],
   "source": [
    "# for transpose the matrix\n",
    "\n",
    "b.T"
   ]
  },
  {
   "cell_type": "code",
   "execution_count": 10,
   "id": "ff73306b",
   "metadata": {},
   "outputs": [
    {
     "data": {
      "text/plain": [
       "array([[ 30,  70],\n",
       "       [ 70, 174]])"
      ]
     },
     "execution_count": 10,
     "metadata": {},
     "output_type": "execute_result"
    }
   ],
   "source": [
    "# For dot product of two matrix\n",
    "\n",
    "np.dot(b,b.T)"
   ]
  },
  {
   "cell_type": "code",
   "execution_count": 12,
   "id": "5d661aa8",
   "metadata": {},
   "outputs": [
    {
     "data": {
      "text/plain": [
       "array([68, 77, 97, 82, 95, 72, 88, 88, 80, 65])"
      ]
     },
     "execution_count": 12,
     "metadata": {},
     "output_type": "execute_result"
    }
   ],
   "source": [
    "# For generate a random  1D array \n",
    "# randint(low, high=None, size=None, dtype=int)\n",
    "\n",
    "np.random.randint(60,100,10)"
   ]
  },
  {
   "cell_type": "code",
   "execution_count": 15,
   "id": "cd19cae2",
   "metadata": {},
   "outputs": [
    {
     "data": {
      "text/plain": [
       "array([[96, 71, 73, 98, 99],\n",
       "       [87, 61, 80, 85, 63],\n",
       "       [95, 86, 68, 70, 90],\n",
       "       [99, 90, 69, 97, 88],\n",
       "       [74, 76, 94, 75, 96]])"
      ]
     },
     "execution_count": 15,
     "metadata": {},
     "output_type": "execute_result"
    }
   ],
   "source": [
    "# For generate a random  2D array \n",
    "# randint(low, high=None, size=None, dtype=int)\n",
    "\n",
    "np.random.randint(60,100,(5,5))"
   ]
  },
  {
   "cell_type": "code",
   "execution_count": 16,
   "id": "c026ff7a",
   "metadata": {},
   "outputs": [
    {
     "name": "stdout",
     "output_type": "stream",
     "text": [
      "[[90 61 95 73 75]\n",
      " [75 66 97 78 70]\n",
      " [95 88 64 90 76]\n",
      " [71 60 88 61 85]\n",
      " [93 94 64 83 82]]\n",
      "97\n",
      "60\n"
     ]
    }
   ],
   "source": [
    "# For find the maximum and minimum number from a matrix\n",
    "\n",
    "matrix = np.random.randint(60,100,(5,5))\n",
    "\n",
    "print(matrix)\n",
    "\n",
    "print(np.max(matrix))\n",
    "\n",
    "print(np.min(matrix))"
   ]
  },
  {
   "cell_type": "code",
   "execution_count": 18,
   "id": "89b7e1e7",
   "metadata": {},
   "outputs": [
    {
     "data": {
      "text/plain": [
       "3"
      ]
     },
     "execution_count": 18,
     "metadata": {},
     "output_type": "execute_result"
    }
   ],
   "source": [
    "# for find the minimum element's index from the given array\n",
    "\n",
    "arr = np.array([0,1,2,-8,6,8,10])\n",
    "\n",
    "np.argmin(arr)"
   ]
  },
  {
   "cell_type": "code",
   "execution_count": 22,
   "id": "445561a5",
   "metadata": {},
   "outputs": [
    {
     "data": {
      "text/plain": [
       "array([ 0,  1,  2,  4,  5,  6,  9, 11, 34, 50])"
      ]
     },
     "execution_count": 22,
     "metadata": {},
     "output_type": "execute_result"
    }
   ],
   "source": [
    "# For find the unique elements from the given array and also counts the number \n",
    "\n",
    "arr = np.array([0,11,1,1,1,2,4,5,6,6,6,6,6,9,34,50,50,50])\n",
    "\n",
    "np.unique(arr)    # it contains only the sorted array"
   ]
  },
  {
   "cell_type": "code",
   "execution_count": 25,
   "id": "5222d3b4",
   "metadata": {},
   "outputs": [
    {
     "name": "stdout",
     "output_type": "stream",
     "text": [
      "(array([ 0,  1,  2,  4,  5,  6,  9, 11, 34, 50]), array([1, 3, 1, 1, 1, 5, 1, 1, 1, 3]))\n"
     ]
    }
   ],
   "source": [
    "# it sorted the unique elements and also return the counts of the elements in the array\n",
    "\n",
    "u = np.unique(arr, return_counts = True)\n",
    "print(u)"
   ]
  },
  {
   "cell_type": "code",
   "execution_count": 26,
   "id": "9f978b96",
   "metadata": {},
   "outputs": [
    {
     "name": "stdout",
     "output_type": "stream",
     "text": [
      "[ 0  1  2  4  5  6  9 11 34 50]\n"
     ]
    }
   ],
   "source": [
    "print(u[0])    # it containts the unique elements"
   ]
  },
  {
   "cell_type": "code",
   "execution_count": 27,
   "id": "6e99f91a",
   "metadata": {},
   "outputs": [
    {
     "name": "stdout",
     "output_type": "stream",
     "text": [
      "[1 3 1 1 1 5 1 1 1 3]\n"
     ]
    }
   ],
   "source": [
    "print(u[1])    # it containts the counts of the same elements"
   ]
  },
  {
   "cell_type": "code",
   "execution_count": 28,
   "id": "494e79c7",
   "metadata": {},
   "outputs": [
    {
     "name": "stdout",
     "output_type": "stream",
     "text": [
      "6\n"
     ]
    }
   ],
   "source": [
    "# Program to find out the Number with the highest frequency in the array\n",
    "\n",
    "arr = np.array([0,11,1,1,1,2,4,5,6,6,6,6,6,9,34,50,50,50])\n",
    "\n",
    "u = np.unique(arr, return_counts = True)\n",
    "\n",
    "idx = np.argmax(u[1])    # index with highest freq\n",
    "elements = u[0][idx]     # element which have highest freq\n",
    "\n",
    "print(elements)"
   ]
  },
  {
   "cell_type": "code",
   "execution_count": 29,
   "id": "c92918cf",
   "metadata": {},
   "outputs": [
    {
     "data": {
      "text/plain": [
       "array([[90, 61, 95, 73, 75],\n",
       "       [75, 66, 97, 78, 70],\n",
       "       [95, 88, 64, 90, 76],\n",
       "       [71, 60, 88, 61, 85],\n",
       "       [93, 94, 64, 83, 82]])"
      ]
     },
     "execution_count": 29,
     "metadata": {},
     "output_type": "execute_result"
    }
   ],
   "source": [
    "# Slicing Arrays\n",
    "\n",
    "matrix"
   ]
  },
  {
   "cell_type": "code",
   "execution_count": 30,
   "id": "e0ae678c",
   "metadata": {},
   "outputs": [
    {
     "data": {
      "text/plain": [
       "array([[88, 64, 90],\n",
       "       [60, 88, 61]])"
      ]
     },
     "execution_count": 30,
     "metadata": {},
     "output_type": "execute_result"
    }
   ],
   "source": [
    "matrix[2:4,1:4]"
   ]
  },
  {
   "cell_type": "code",
   "execution_count": null,
   "id": "c654e730",
   "metadata": {},
   "outputs": [],
   "source": []
  }
 ],
 "metadata": {
  "kernelspec": {
   "display_name": "Python 3",
   "language": "python",
   "name": "python3"
  },
  "language_info": {
   "codemirror_mode": {
    "name": "ipython",
    "version": 3
   },
   "file_extension": ".py",
   "mimetype": "text/x-python",
   "name": "python",
   "nbconvert_exporter": "python",
   "pygments_lexer": "ipython3",
   "version": "3.8.5"
  }
 },
 "nbformat": 4,
 "nbformat_minor": 5
}
