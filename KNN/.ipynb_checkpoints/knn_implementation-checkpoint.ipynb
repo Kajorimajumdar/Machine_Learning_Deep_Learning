{
 "cells": [
  {
   "cell_type": "code",
   "execution_count": 1,
   "id": "8920ff90",
   "metadata": {},
   "outputs": [],
   "source": [
    "import pandas as pd\n",
    "import numpy as np\n",
    "import matplotlib.pyplot as plt"
   ]
  },
  {
   "cell_type": "code",
   "execution_count": 3,
   "id": "eafa8e53",
   "metadata": {},
   "outputs": [],
   "source": [
    "data = pd.read_csv(\"train.csv\")"
   ]
  },
  {
   "cell_type": "code",
   "execution_count": 4,
   "id": "88af27cb",
   "metadata": {},
   "outputs": [
    {
     "data": {
      "text/plain": [
       "pandas.core.frame.DataFrame"
      ]
     },
     "execution_count": 4,
     "metadata": {},
     "output_type": "execute_result"
    }
   ],
   "source": [
    "type(data)"
   ]
  },
  {
   "cell_type": "code",
   "execution_count": 5,
   "id": "ec381856",
   "metadata": {},
   "outputs": [
    {
     "data": {
      "text/html": [
       "<div>\n",
       "<style scoped>\n",
       "    .dataframe tbody tr th:only-of-type {\n",
       "        vertical-align: middle;\n",
       "    }\n",
       "\n",
       "    .dataframe tbody tr th {\n",
       "        vertical-align: top;\n",
       "    }\n",
       "\n",
       "    .dataframe thead th {\n",
       "        text-align: right;\n",
       "    }\n",
       "</style>\n",
       "<table border=\"1\" class=\"dataframe\">\n",
       "  <thead>\n",
       "    <tr style=\"text-align: right;\">\n",
       "      <th></th>\n",
       "      <th>Color</th>\n",
       "      <th>weight</th>\n",
       "      <th>Size</th>\n",
       "      <th>Fruit</th>\n",
       "    </tr>\n",
       "  </thead>\n",
       "  <tbody>\n",
       "    <tr>\n",
       "      <th>0</th>\n",
       "      <td>B</td>\n",
       "      <td>100</td>\n",
       "      <td>20</td>\n",
       "      <td>C</td>\n",
       "    </tr>\n",
       "    <tr>\n",
       "      <th>1</th>\n",
       "      <td>G</td>\n",
       "      <td>1000</td>\n",
       "      <td>100</td>\n",
       "      <td>W</td>\n",
       "    </tr>\n",
       "    <tr>\n",
       "      <th>2</th>\n",
       "      <td>B</td>\n",
       "      <td>120</td>\n",
       "      <td>19</td>\n",
       "      <td>C</td>\n",
       "    </tr>\n",
       "    <tr>\n",
       "      <th>3</th>\n",
       "      <td>B</td>\n",
       "      <td>130</td>\n",
       "      <td>18</td>\n",
       "      <td>C</td>\n",
       "    </tr>\n",
       "    <tr>\n",
       "      <th>4</th>\n",
       "      <td>B</td>\n",
       "      <td>140</td>\n",
       "      <td>20</td>\n",
       "      <td>C</td>\n",
       "    </tr>\n",
       "    <tr>\n",
       "      <th>5</th>\n",
       "      <td>G</td>\n",
       "      <td>2000</td>\n",
       "      <td>101</td>\n",
       "      <td>W</td>\n",
       "    </tr>\n",
       "    <tr>\n",
       "      <th>6</th>\n",
       "      <td>G</td>\n",
       "      <td>1005</td>\n",
       "      <td>98</td>\n",
       "      <td>W</td>\n",
       "    </tr>\n",
       "    <tr>\n",
       "      <th>7</th>\n",
       "      <td>B</td>\n",
       "      <td>100</td>\n",
       "      <td>21</td>\n",
       "      <td>C</td>\n",
       "    </tr>\n",
       "    <tr>\n",
       "      <th>8</th>\n",
       "      <td>G</td>\n",
       "      <td>1002</td>\n",
       "      <td>102</td>\n",
       "      <td>W</td>\n",
       "    </tr>\n",
       "    <tr>\n",
       "      <th>9</th>\n",
       "      <td>B</td>\n",
       "      <td>100</td>\n",
       "      <td>15</td>\n",
       "      <td>C</td>\n",
       "    </tr>\n",
       "  </tbody>\n",
       "</table>\n",
       "</div>"
      ],
      "text/plain": [
       "  Color  weight  Size Fruit\n",
       "0     B     100    20     C\n",
       "1     G    1000   100     W\n",
       "2     B     120    19     C\n",
       "3     B     130    18     C\n",
       "4     B     140    20     C\n",
       "5     G    2000   101     W\n",
       "6     G    1005    98     W\n",
       "7     B     100    21     C\n",
       "8     G    1002   102     W\n",
       "9     B     100    15     C"
      ]
     },
     "execution_count": 5,
     "metadata": {},
     "output_type": "execute_result"
    }
   ],
   "source": [
    "data.head(10)       # Shows first 10 data values"
   ]
  },
  {
   "cell_type": "code",
   "execution_count": 6,
   "id": "57956062",
   "metadata": {},
   "outputs": [
    {
     "data": {
      "text/plain": [
       "(29, 4)"
      ]
     },
     "execution_count": 6,
     "metadata": {},
     "output_type": "execute_result"
    }
   ],
   "source": [
    "data.shape      #specifoes the length of the data set row and columns"
   ]
  },
  {
   "cell_type": "code",
   "execution_count": 7,
   "id": "96a487c3",
   "metadata": {},
   "outputs": [
    {
     "name": "stdout",
     "output_type": "stream",
     "text": [
      "<class 'pandas.core.frame.DataFrame'>\n",
      "RangeIndex: 29 entries, 0 to 28\n",
      "Data columns (total 4 columns):\n",
      " #   Column  Non-Null Count  Dtype \n",
      "---  ------  --------------  ----- \n",
      " 0   Color   29 non-null     object\n",
      " 1   weight  29 non-null     int64 \n",
      " 2   Size    29 non-null     int64 \n",
      " 3   Fruit   29 non-null     object\n",
      "dtypes: int64(2), object(2)\n",
      "memory usage: 1.0+ KB\n"
     ]
    }
   ],
   "source": [
    "data.info()"
   ]
  },
  {
   "cell_type": "code",
   "execution_count": 8,
   "id": "d1a2b54f",
   "metadata": {},
   "outputs": [],
   "source": [
    "data = data.values   #values will convert pandas dataframe into numpy array \n",
    "\n",
    "x = data[:,1:3]   # processed input data used for making predictions\n",
    "y = data[:,-1]   # predicted value"
   ]
  },
  {
   "cell_type": "code",
   "execution_count": 16,
   "id": "4105a9c8",
   "metadata": {},
   "outputs": [],
   "source": [
    "from sklearn.preprocessing import LabelEncoder\n",
    "\n",
    "le = LabelEncoder()        # calling the constructor of the label encoder\n",
    "y = le.fit_transform(y)  # main method called for applying label encoder"
   ]
  },
  {
   "cell_type": "code",
   "execution_count": 18,
   "id": "adb805b2",
   "metadata": {},
   "outputs": [
    {
     "data": {
      "text/plain": [
       "array([0, 1, 0, 0, 0, 1, 1, 0, 1, 0, 1, 1, 1, 1, 1, 0, 0, 0, 0, 1, 0, 1,\n",
       "       0, 1, 1, 1, 0, 0, 1])"
      ]
     },
     "execution_count": 18,
     "metadata": {},
     "output_type": "execute_result"
    }
   ],
   "source": [
    "y"
   ]
  },
  {
   "cell_type": "code",
   "execution_count": 20,
   "id": "ef4a9d78",
   "metadata": {},
   "outputs": [
    {
     "data": {
      "image/png": "[encoded data removed]",
      "text/plain": [
       "<Figure size 432x288 with 1 Axes>"
      ]
     },
     "metadata": {
      "needs_background": "light"
     },
     "output_type": "display_data"
    }
   ],
   "source": [
    "plt.scatter(x[:,0],x[:,1], c = y)\n",
    "plt.show()"
   ]
  },
  {
   "cell_type": "code",
   "execution_count": 21,
   "id": "96beae17",
   "metadata": {},
   "outputs": [],
   "source": [
    "def dist(p1,p2):\n",
    "    return ((p1[0]-p2[0])**2 + (p1[1]-p2[1])**2)**0.5"
   ]
  },
  {
   "cell_type": "code",
   "execution_count": 25,
   "id": "2ed06c9b",
   "metadata": {},
   "outputs": [],
   "source": [
    "def KNN(x, y, queryPoint, k=5):\n",
    "    vals = []      # store all the distances of querypoint from x.\n",
    "    m = x.shape[0]\n",
    "    \n",
    "    for i in range(m):\n",
    "        d = dist(queryPoint, x[i])\n",
    "        vals.append([d,y[i]])\n",
    "        \n",
    "    vals = sorted(vals)\n",
    "    \n",
    "    # nearest / first k points\n",
    "    nearest_points = vals[:k]\n",
    "    nearest_points = np.array(nearest_points)\n",
    "    \n",
    "    new_vals = np.unique(nearest_points[:,1],return_counts=True)\n",
    "    \n",
    "    index = new_vals[1].argmax()\n",
    "    pred = new_vals[0][index]\n",
    "    \n",
    "    if pred == 0:\n",
    "        return \"Coconut\"\n",
    "    else:\n",
    "        return \"Watermelon\""
   ]
  },
  {
   "cell_type": "code",
   "execution_count": 35,
   "id": "eedbdd41",
   "metadata": {},
   "outputs": [],
   "source": [
    "point = [50,120] #coconut"
   ]
  },
  {
   "cell_type": "code",
   "execution_count": 36,
   "id": "bf37d7ed",
   "metadata": {},
   "outputs": [
    {
     "data": {
      "text/plain": [
       "'Coconut'"
      ]
     },
     "execution_count": 36,
     "metadata": {},
     "output_type": "execute_result"
    }
   ],
   "source": [
    "KNN(x,y,point)"
   ]
  },
  {
   "cell_type": "code",
   "execution_count": 38,
   "id": "fcc33c35",
   "metadata": {},
   "outputs": [
    {
     "data": {
      "image/png": "[encoded data removed]",
      "text/plain": [
       "<Figure size 360x360 with 1 Axes>"
      ]
     },
     "metadata": {
      "needs_background": "light"
     },
     "output_type": "display_data"
    }
   ],
   "source": [
    "plt.figure(figsize=(5,5))\n",
    "plt.scatter(point[0],point[1])\n",
    "plt.scatter(x[:,0],x[:,1], c = y)\n",
    "plt.show()"
   ]
  },
  {
   "cell_type": "code",
   "execution_count": null,
   "id": "7cdeee92",
   "metadata": {},
   "outputs": [],
   "source": []
  }
 ],
 "metadata": {
  "kernelspec": {
   "display_name": "Python 3",
   "language": "python",
   "name": "python3"
  },
  "language_info": {
   "codemirror_mode": {
    "name": "ipython",
    "version": 3
   },
   "file_extension": ".py",
   "mimetype": "text/x-python",
   "name": "python",
   "nbconvert_exporter": "python",
   "pygments_lexer": "ipython3",
   "version": "3.8.5"
  }
 },
 "nbformat": 4,
 "nbformat_minor": 5
}
